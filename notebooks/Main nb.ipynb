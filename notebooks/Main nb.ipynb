{
 "cells": [
  {
   "cell_type": "code",
   "execution_count": 1,
   "metadata": {},
   "outputs": [],
   "source": [
    "import pandas as pd\n",
    "import numpy as np\n",
    "import matplotlib.pyplot as plt\n",
    "import matplotlib.patches as mpatches\n",
    "import seaborn as sns\n",
    "import pylab\n",
    "from IPython.display import display, HTML  # To display correct tables\n",
    "from pprint import pprint\n",
    "\n",
    "plt.style.use('ggplot')\n",
    "pylab.rcParams['figure.figsize'] = (16.0, 8.0)\n",
    "cp = sns.color_palette()\n",
    "\n",
    "def figsize(width=16, height=8):\n",
    "    pylab.rcParams['figure.figsize'] = (width, height)"
   ]
  },
  {
   "cell_type": "code",
   "execution_count": 2,
   "metadata": {},
   "outputs": [],
   "source": [
    "import os\n",
    "os.chdir(\"..\")"
   ]
  },
  {
   "cell_type": "code",
   "execution_count": 3,
   "metadata": {},
   "outputs": [],
   "source": [
    "from src import emd"
   ]
  },
  {
   "cell_type": "code",
   "execution_count": 4,
   "metadata": {},
   "outputs": [
    {
     "data": {
      "text/plain": [
       "10.361272923022783"
      ]
     },
     "execution_count": 4,
     "metadata": {},
     "output_type": "execute_result"
    }
   ],
   "source": [
    "np.random.normal(10)"
   ]
  },
  {
   "cell_type": "markdown",
   "metadata": {},
   "source": [
    "# Question 3"
   ]
  },
  {
   "cell_type": "code",
   "execution_count": 5,
   "metadata": {},
   "outputs": [],
   "source": [
    "LP = {\n",
    "    \"c\": np.array([1, 4, 9]),\n",
    "    \"A_ub\": np.array([[1, 1, 0], [1, 0, 1]]),\n",
    "    \"b_ub\": np.array([5, 10]),\n",
    "    \"A_eq\": np.array([[0, -1, 1]]),\n",
    "    \"b_eq\": np.array([[7]])\n",
    "}\n",
    "\n",
    "emd.LP_2_MPS(LP)"
   ]
  },
  {
   "cell_type": "markdown",
   "metadata": {},
   "source": [
    "# Question 4"
   ]
  },
  {
   "cell_type": "code",
   "execution_count": 6,
   "metadata": {},
   "outputs": [],
   "source": [
    "from scipy.stats import wasserstein_distance\n",
    "\n",
    "np.random.seed(1)\n",
    "h1 = np.random.normal(0, size=31) * 100\n",
    "h1 = np.round(h1, decimals=3)\n",
    "w1 = np.abs(np.random.normal(10, size=31)) * 100\n",
    "w1 = w1 / np.sum(w1)\n",
    "h2 = np.random.normal(0, size=10) * 100\n",
    "h2 = np.round(h2, decimals=3)\n",
    "w2 = np.abs(np.random.normal(10, size=10)) * 100\n",
    "w2 = w2 / np.sum(w2)\n",
    "w1 = np.round(w1, decimals=3)\n",
    "w2 = np.round(w2, decimals=3)"
   ]
  },
  {
   "cell_type": "code",
   "execution_count": 7,
   "metadata": {},
   "outputs": [],
   "source": [
    "LP = emd.build_LP(h1, h2, w1, w2)\n",
    "emd.LP_2_MPS(LP)"
   ]
  },
  {
   "cell_type": "code",
   "execution_count": 8,
   "metadata": {},
   "outputs": [
    {
     "data": {
      "text/plain": [
       "array([ 162.435,  -61.176,  -52.817, -107.297,   86.541, -230.154,\n",
       "        174.481,  -76.121,   31.904,  -24.937,  146.211, -206.014,\n",
       "        -32.242,  -38.405,  113.377, -109.989,  -17.243,  -87.786,\n",
       "          4.221,   58.282, -110.062,  114.472,   90.159,   50.249,\n",
       "         90.086,  -68.373,  -12.289,  -93.577,  -26.789,   53.036,\n",
       "        -69.166])"
      ]
     },
     "execution_count": 8,
     "metadata": {},
     "output_type": "execute_result"
    }
   ],
   "source": [
    "h1"
   ]
  },
  {
   "cell_type": "code",
   "execution_count": 9,
   "metadata": {},
   "outputs": [
    {
     "name": "stdout",
     "output_type": "stream",
     "text": [
      "[0.031 0.03  0.029 0.03  0.032 0.028 0.033 0.037 0.034 0.031 0.029 0.03\n",
      " 0.037 0.032 0.03  0.033 0.039 0.032 0.034 0.033 0.031 0.028 0.031 0.031\n",
      " 0.034 0.035 0.035 0.033 0.035 0.029 0.036] 1.0020000000000004\n"
     ]
    }
   ],
   "source": [
    "print(w1, sum(w1))"
   ]
  },
  {
   "cell_type": "code",
   "execution_count": 10,
   "metadata": {},
   "outputs": [
    {
     "data": {
      "text/plain": [
       "array([  51.293,  -29.809,   48.852,   -7.557,  113.163,  151.982,\n",
       "        218.558, -139.65 , -144.411,  -50.447])"
      ]
     },
     "execution_count": 10,
     "metadata": {},
     "output_type": "execute_result"
    }
   ],
   "source": [
    "h2"
   ]
  },
  {
   "cell_type": "code",
   "execution_count": 11,
   "metadata": {},
   "outputs": [
    {
     "name": "stdout",
     "output_type": "stream",
     "text": [
      "[0.101 0.108 0.103 0.079 0.097 0.108 0.102 0.107 0.097 0.098] 0.9999999999999999\n"
     ]
    }
   ],
   "source": [
    "print(w2, sum(w2))"
   ]
  },
  {
   "cell_type": "code",
   "execution_count": 12,
   "metadata": {},
   "outputs": [
    {
     "data": {
      "text/plain": [
       "array([1.11142e+02, 1.92244e+02, 1.13583e+02, 1.69992e+02, 4.92720e+01,\n",
       "       1.04530e+01, 5.61230e+01, 3.02085e+02, 3.06846e+02, 2.12882e+02,\n",
       "       1.12469e+02, 3.13670e+01, 1.10028e+02, 5.36190e+01, 1.74339e+02,\n",
       "       2.13158e+02, 2.79734e+02, 7.84740e+01, 8.32350e+01, 1.07290e+01,\n",
       "       1.04110e+02, 2.30080e+01, 1.01669e+02, 4.52600e+01, 1.65980e+02,\n",
       "       2.04799e+02, 2.71375e+02, 8.68330e+01, 9.15940e+01, 2.37000e+00,\n",
       "       1.58590e+02, 7.74880e+01, 1.56149e+02, 9.97400e+01, 2.20460e+02,\n",
       "       2.59279e+02, 3.25855e+02, 3.23530e+01, 3.71140e+01, 5.68500e+01,\n",
       "       3.52480e+01, 1.16350e+02, 3.76890e+01, 9.40980e+01, 2.66220e+01,\n",
       "       6.54410e+01, 1.32017e+02, 2.26191e+02, 2.30952e+02, 1.36988e+02,\n",
       "       2.81447e+02, 2.00345e+02, 2.79006e+02, 2.22597e+02, 3.43317e+02,\n",
       "       3.82136e+02, 4.48712e+02, 9.05040e+01, 8.57430e+01, 1.79707e+02,\n",
       "       1.23188e+02, 2.04290e+02, 1.25629e+02, 1.82038e+02, 6.13180e+01,\n",
       "       2.24990e+01, 4.40770e+01, 3.14131e+02, 3.18892e+02, 2.24928e+02,\n",
       "       1.27414e+02, 4.63120e+01, 1.24973e+02, 6.85640e+01, 1.89284e+02,\n",
       "       2.28103e+02, 2.94679e+02, 6.35290e+01, 6.82900e+01, 2.56740e+01,\n",
       "       1.93890e+01, 6.17130e+01, 1.69480e+01, 3.94610e+01, 8.12590e+01,\n",
       "       1.20078e+02, 1.86654e+02, 1.71554e+02, 1.76315e+02, 8.23510e+01,\n",
       "       7.62300e+01, 4.87200e+00, 7.37890e+01, 1.73800e+01, 1.38100e+02,\n",
       "       1.76919e+02, 2.43495e+02, 1.14713e+02, 1.19474e+02, 2.55100e+01,\n",
       "       9.49180e+01, 1.76020e+02, 9.73590e+01, 1.53768e+02, 3.30480e+01,\n",
       "       5.77100e+00, 7.23470e+01, 2.85861e+02, 2.90622e+02, 1.96658e+02,\n",
       "       2.57307e+02, 1.76205e+02, 2.54866e+02, 1.98457e+02, 3.19177e+02,\n",
       "       3.57996e+02, 4.24572e+02, 6.63640e+01, 6.16030e+01, 1.55567e+02,\n",
       "       8.35350e+01, 2.43300e+00, 8.10940e+01, 2.46850e+01, 1.45405e+02,\n",
       "       1.84224e+02, 2.50800e+02, 1.07408e+02, 1.12169e+02, 1.82050e+01,\n",
       "       8.96980e+01, 8.59600e+00, 8.72570e+01, 3.08480e+01, 1.51568e+02,\n",
       "       1.90387e+02, 2.56963e+02, 1.01245e+02, 1.06006e+02, 1.20420e+01,\n",
       "       6.20840e+01, 1.43186e+02, 6.45250e+01, 1.20934e+02, 2.14000e-01,\n",
       "       3.86050e+01, 1.05181e+02, 2.53027e+02, 2.57788e+02, 1.63824e+02,\n",
       "       1.61282e+02, 8.01800e+01, 1.58841e+02, 1.02432e+02, 2.23152e+02,\n",
       "       2.61971e+02, 3.28547e+02, 2.96610e+01, 3.44220e+01, 5.95420e+01,\n",
       "       6.85360e+01, 1.25660e+01, 6.60950e+01, 9.68600e+00, 1.30406e+02,\n",
       "       1.69225e+02, 2.35801e+02, 1.22407e+02, 1.27168e+02, 3.32040e+01,\n",
       "       1.39079e+02, 5.79770e+01, 1.36638e+02, 8.02290e+01, 2.00949e+02,\n",
       "       2.39768e+02, 3.06344e+02, 5.18640e+01, 5.66250e+01, 3.73390e+01,\n",
       "       4.70720e+01, 3.40300e+01, 4.46310e+01, 1.17780e+01, 1.08942e+02,\n",
       "       1.47761e+02, 2.14337e+02, 1.43871e+02, 1.48632e+02, 5.46680e+01,\n",
       "       6.98900e+00, 8.80910e+01, 9.43000e+00, 6.58390e+01, 5.48810e+01,\n",
       "       9.37000e+01, 1.60276e+02, 1.97932e+02, 2.02693e+02, 1.08729e+02,\n",
       "       1.61355e+02, 8.02530e+01, 1.58914e+02, 1.02505e+02, 2.23225e+02,\n",
       "       2.62044e+02, 3.28620e+02, 2.95880e+01, 3.43490e+01, 5.96150e+01,\n",
       "       6.31790e+01, 1.44281e+02, 6.56200e+01, 1.22029e+02, 1.30900e+00,\n",
       "       3.75100e+01, 1.04086e+02, 2.54122e+02, 2.58883e+02, 1.64919e+02,\n",
       "       3.88660e+01, 1.19968e+02, 4.13070e+01, 9.77160e+01, 2.30040e+01,\n",
       "       6.18230e+01, 1.28399e+02, 2.29809e+02, 2.34570e+02, 1.40606e+02,\n",
       "       1.04400e+00, 8.00580e+01, 1.39700e+00, 5.78060e+01, 6.29140e+01,\n",
       "       1.01733e+02, 1.68309e+02, 1.89899e+02, 1.94660e+02, 1.00696e+02,\n",
       "       3.87930e+01, 1.19895e+02, 4.12340e+01, 9.76430e+01, 2.30770e+01,\n",
       "       6.18960e+01, 1.28472e+02, 2.29736e+02, 2.34497e+02, 1.40533e+02,\n",
       "       1.19666e+02, 3.85640e+01, 1.17225e+02, 6.08160e+01, 1.81536e+02,\n",
       "       2.20355e+02, 2.86931e+02, 7.12770e+01, 7.60380e+01, 1.79260e+01,\n",
       "       6.35820e+01, 1.75200e+01, 6.11410e+01, 4.73200e+00, 1.25452e+02,\n",
       "       1.64271e+02, 2.30847e+02, 1.27361e+02, 1.32122e+02, 3.81580e+01,\n",
       "       1.44870e+02, 6.37680e+01, 1.42429e+02, 8.60200e+01, 2.06740e+02,\n",
       "       2.45559e+02, 3.12135e+02, 4.60730e+01, 5.08340e+01, 4.31300e+01,\n",
       "       7.80820e+01, 3.02000e+00, 7.56410e+01, 1.92320e+01, 1.39952e+02,\n",
       "       1.78771e+02, 2.45347e+02, 1.12861e+02, 1.17622e+02, 2.36580e+01,\n",
       "       1.74300e+00, 8.28450e+01, 4.18400e+00, 6.05930e+01, 6.01270e+01,\n",
       "       9.89460e+01, 1.65522e+02, 1.92686e+02, 1.97447e+02, 1.03483e+02,\n",
       "       1.20459e+02, 3.93570e+01, 1.18018e+02, 6.16090e+01, 1.82329e+02,\n",
       "       2.21148e+02, 2.87724e+02, 7.04840e+01, 7.52450e+01, 1.87190e+01])"
      ]
     },
     "execution_count": 12,
     "metadata": {},
     "output_type": "execute_result"
    }
   ],
   "source": [
    "LP[\"c\"]"
   ]
  },
  {
   "cell_type": "code",
   "execution_count": 13,
   "metadata": {},
   "outputs": [
    {
     "data": {
      "text/plain": [
       "array([[1., 1., 1., 1., 1., 1., 1., 1., 1., 1., 1., 1., 1., 1., 1., 1.,\n",
       "        1., 1., 1., 1., 1., 1., 1., 1., 1., 1., 1., 1., 1., 1., 1., 1.,\n",
       "        1., 1., 1., 1., 1., 1., 1., 1., 1., 1., 1., 1., 1., 1., 1., 1.,\n",
       "        1., 1., 1., 1., 1., 1., 1., 1., 1., 1., 1., 1., 1., 1., 1., 1.,\n",
       "        1., 1., 1., 1., 1., 1., 1., 1., 1., 1., 1., 1., 1., 1., 1., 1.,\n",
       "        1., 1., 1., 1., 1., 1., 1., 1., 1., 1., 1., 1., 1., 1., 1., 1.,\n",
       "        1., 1., 1., 1., 1., 1., 1., 1., 1., 1., 1., 1., 1., 1., 1., 1.,\n",
       "        1., 1., 1., 1., 1., 1., 1., 1., 1., 1., 1., 1., 1., 1., 1., 1.,\n",
       "        1., 1., 1., 1., 1., 1., 1., 1., 1., 1., 1., 1., 1., 1., 1., 1.,\n",
       "        1., 1., 1., 1., 1., 1., 1., 1., 1., 1., 1., 1., 1., 1., 1., 1.,\n",
       "        1., 1., 1., 1., 1., 1., 1., 1., 1., 1., 1., 1., 1., 1., 1., 1.,\n",
       "        1., 1., 1., 1., 1., 1., 1., 1., 1., 1., 1., 1., 1., 1., 1., 1.,\n",
       "        1., 1., 1., 1., 1., 1., 1., 1., 1., 1., 1., 1., 1., 1., 1., 1.,\n",
       "        1., 1., 1., 1., 1., 1., 1., 1., 1., 1., 1., 1., 1., 1., 1., 1.,\n",
       "        1., 1., 1., 1., 1., 1., 1., 1., 1., 1., 1., 1., 1., 1., 1., 1.,\n",
       "        1., 1., 1., 1., 1., 1., 1., 1., 1., 1., 1., 1., 1., 1., 1., 1.,\n",
       "        1., 1., 1., 1., 1., 1., 1., 1., 1., 1., 1., 1., 1., 1., 1., 1.,\n",
       "        1., 1., 1., 1., 1., 1., 1., 1., 1., 1., 1., 1., 1., 1., 1., 1.,\n",
       "        1., 1., 1., 1., 1., 1., 1., 1., 1., 1., 1., 1., 1., 1., 1., 1.,\n",
       "        1., 1., 1., 1., 1., 1.]])"
      ]
     },
     "execution_count": 13,
     "metadata": {},
     "output_type": "execute_result"
    }
   ],
   "source": [
    "LP[\"A_eq\"]"
   ]
  },
  {
   "cell_type": "code",
   "execution_count": 14,
   "metadata": {},
   "outputs": [
    {
     "data": {
      "text/plain": [
       "array([1.])"
      ]
     },
     "execution_count": 14,
     "metadata": {},
     "output_type": "execute_result"
    }
   ],
   "source": [
    "LP[\"b_eq\"]"
   ]
  },
  {
   "cell_type": "code",
   "execution_count": 15,
   "metadata": {},
   "outputs": [
    {
     "data": {
      "text/plain": [
       "array([[1., 1., 1., ..., 0., 0., 0.],\n",
       "       [0., 0., 0., ..., 0., 0., 0.],\n",
       "       [0., 0., 0., ..., 0., 0., 0.],\n",
       "       ...,\n",
       "       [0., 0., 0., ..., 1., 0., 0.],\n",
       "       [0., 0., 0., ..., 0., 1., 0.],\n",
       "       [0., 0., 0., ..., 0., 0., 1.]])"
      ]
     },
     "execution_count": 15,
     "metadata": {},
     "output_type": "execute_result"
    }
   ],
   "source": [
    "LP[\"A_ub\"]"
   ]
  },
  {
   "cell_type": "code",
   "execution_count": 16,
   "metadata": {},
   "outputs": [
    {
     "data": {
      "text/plain": [
       "array([0.031, 0.03 , 0.029, 0.03 , 0.032, 0.028, 0.033, 0.037, 0.034,\n",
       "       0.031, 0.029, 0.03 , 0.037, 0.032, 0.03 , 0.033, 0.039, 0.032,\n",
       "       0.034, 0.033, 0.031, 0.028, 0.031, 0.031, 0.034, 0.035, 0.035,\n",
       "       0.033, 0.035, 0.029, 0.036, 0.101, 0.108, 0.103, 0.079, 0.097,\n",
       "       0.108, 0.102, 0.107, 0.097, 0.098])"
      ]
     },
     "execution_count": 16,
     "metadata": {},
     "output_type": "execute_result"
    }
   ],
   "source": [
    "LP[\"b_ub\"]"
   ]
  },
  {
   "cell_type": "code",
   "execution_count": 17,
   "metadata": {},
   "outputs": [
    {
     "data": {
      "text/plain": [
       "41.8844480598802"
      ]
     },
     "execution_count": 17,
     "metadata": {},
     "output_type": "execute_result"
    }
   ],
   "source": [
    "wasserstein_distance(h1, h2, w1, w2) # check against lp_solve"
   ]
  },
  {
   "cell_type": "markdown",
   "metadata": {},
   "source": [
    "## Complexity study"
   ]
  },
  {
   "cell_type": "code",
   "execution_count": 18,
   "metadata": {},
   "outputs": [],
   "source": [
    "from time import time"
   ]
  },
  {
   "cell_type": "code",
   "execution_count": 6,
   "metadata": {
    "scrolled": true
   },
   "outputs": [
    {
     "name": "stdout",
     "output_type": "stream",
     "text": [
      "10 10\n"
     ]
    },
    {
     "ename": "NameError",
     "evalue": "name 'wasserstein_distance' is not defined",
     "output_type": "error",
     "traceback": [
      "\u001b[1;31m---------------------------------------------------------------------------\u001b[0m",
      "\u001b[1;31mNameError\u001b[0m                                 Traceback (most recent call last)",
      "\u001b[1;32m<ipython-input-6-485ebe188451>\u001b[0m in \u001b[0;36m<module>\u001b[1;34m\u001b[0m\n\u001b[0;32m     19\u001b[0m         \u001b[1;31m# Register time elapsed\u001b[0m\u001b[1;33m\u001b[0m\u001b[1;33m\u001b[0m\u001b[0m\n\u001b[0;32m     20\u001b[0m         \u001b[0memd\u001b[0m\u001b[1;33m.\u001b[0m\u001b[0mLP_2_MPS\u001b[0m\u001b[1;33m(\u001b[0m\u001b[0mLP\u001b[0m\u001b[1;33m,\u001b[0m \u001b[1;34m\"lp_\"\u001b[0m\u001b[1;33m+\u001b[0m\u001b[0mstr\u001b[0m\u001b[1;33m(\u001b[0m\u001b[0mn\u001b[0m\u001b[1;33m)\u001b[0m\u001b[1;33m+\u001b[0m\u001b[1;34m\"_\"\u001b[0m\u001b[1;33m+\u001b[0m\u001b[0mstr\u001b[0m\u001b[1;33m(\u001b[0m\u001b[0mm\u001b[0m\u001b[1;33m)\u001b[0m\u001b[1;33m+\u001b[0m\u001b[1;34m\".mps\"\u001b[0m\u001b[1;33m)\u001b[0m\u001b[1;33m\u001b[0m\u001b[0m\n\u001b[1;32m---> 21\u001b[1;33m         \u001b[0mprint\u001b[0m\u001b[1;33m(\u001b[0m\u001b[0mwasserstein_distance\u001b[0m\u001b[1;33m(\u001b[0m\u001b[0mh1\u001b[0m\u001b[1;33m,\u001b[0m \u001b[0mh2\u001b[0m\u001b[1;33m,\u001b[0m \u001b[0mw1\u001b[0m\u001b[1;33m,\u001b[0m \u001b[0mw2\u001b[0m\u001b[1;33m)\u001b[0m\u001b[1;33m)\u001b[0m \u001b[1;31m# For double check\u001b[0m\u001b[1;33m\u001b[0m\u001b[0m\n\u001b[0m",
      "\u001b[1;31mNameError\u001b[0m: name 'wasserstein_distance' is not defined"
     ]
    }
   ],
   "source": [
    "from collections import defaultdict\n",
    "perfs = defaultdict(list)\n",
    "\n",
    "for n in np.logspace(1, 3, num=5):\n",
    "    for m in np.logspace(1, 3, num=5):\n",
    "        n, m = int(n), int(m)\n",
    "        print(n, m)\n",
    "        h1 = np.abs(np.random.normal(0, size=n)) * 100\n",
    "        h1 = np.round(h1, decimals=3)\n",
    "        w1 = np.abs(np.random.normal(10, size=n)) * 100\n",
    "        w1 = w1 / np.sum(w1)\n",
    "        w1 = np.round(w1, decimals=3)\n",
    "        h2 = np.abs(np.random.normal(0, size=m)) * 100\n",
    "        h2 = np.round(h2, decimals=3)\n",
    "        w2 = np.abs(np.random.normal(10, size=m)) * 100\n",
    "        w2 = w2 / np.sum(w2)\n",
    "        w2 = np.round(w2, decimals=3)\n",
    "        LP = emd.build_LP(h1, h2, w1, w2)\n",
    "        # Register time elapsed\n",
    "        emd.LP_2_MPS(LP, \"lp_\"+str(n)+\"_\"+str(m)+\".mps\")\n",
    "        print(wasserstein_distance(h1, h2, w1, w2)) # For double check"
   ]
  },
  {
   "cell_type": "markdown",
   "metadata": {},
   "source": [
    "# Question 5"
   ]
  },
  {
   "cell_type": "code",
   "execution_count": 18,
   "metadata": {},
   "outputs": [
    {
     "data": {
      "image/png": "[encoded data removed]",
      "text/plain": [
       "<Figure size 360x360 with 1 Axes>"
      ]
     },
     "metadata": {
      "needs_background": "light"
     },
     "output_type": "display_data"
    },
    {
     "data": {
      "image/png": "[encoded data removed]",
      "text/plain": [
       "<Figure size 432x288 with 1 Axes>"
      ]
     },
     "metadata": {
      "needs_background": "light"
     },
     "output_type": "display_data"
    },
    {
     "data": {
      "image/png": "[encoded data removed]",
      "text/plain": [
       "<Figure size 432x288 with 1 Axes>"
      ]
     },
     "metadata": {
      "needs_background": "light"
     },
     "output_type": "display_data"
    }
   ],
   "source": [
    "from sklearn.cluster import KMeans\n",
    "from sklearn.datasets import make_blobs\n",
    "\n",
    "plt.figure(figsize=(5, 5))\n",
    "\n",
    "n_samples = 1500\n",
    "random_state = 170\n",
    "\n",
    "X, y = make_blobs(n_samples=n_samples, random_state=random_state)\n",
    "\n",
    "# Incorrect number of clusters\n",
    "y_pred1 = KMeans(n_clusters=1, random_state=random_state).fit_predict(X)\n",
    "y_cent1 = KMeans(n_clusters=1, random_state=random_state).fit(X).cluster_centers_ \n",
    "plt.scatter(X[:, 0], X[:, 1], c=y_pred1)\n",
    "\n",
    "plt.show()\n",
    "\n",
    "# Correct number of clusters\n",
    "y_pred2 = KMeans(n_clusters=3, random_state=random_state).fit_predict(X)\n",
    "y_cent2 = KMeans(n_clusters=3, random_state=random_state).fit(X).cluster_centers_ \n",
    "\n",
    "plt.scatter(X[:, 0], X[:, 1], c=y_pred2)\n",
    "\n",
    "plt.show()\n",
    "\n",
    "# Too many clusters\n",
    "y_pred3 = KMeans(n_clusters=4, random_state=random_state).fit_predict(X)\n",
    "y_cent3 = KMeans(n_clusters=4, random_state=random_state).fit(X).cluster_centers_ \n",
    "\n",
    "plt.scatter(X[:, 0], X[:, 1], c=y_pred3)\n",
    "\n",
    "plt.show()"
   ]
  },
  {
   "cell_type": "code",
   "execution_count": 19,
   "metadata": {},
   "outputs": [
    {
     "data": {
      "text/plain": [
       "array([[-9.79643309, -5.52964976],\n",
       "       [-4.55490993,  0.02920864],\n",
       "       [ 1.91176144,  0.40634045],\n",
       "       [-8.15209187, -5.43680661]])"
      ]
     },
     "execution_count": 19,
     "metadata": {},
     "output_type": "execute_result"
    }
   ],
   "source": [
    "y_cent3"
   ]
  },
  {
   "cell_type": "code",
   "execution_count": 26,
   "metadata": {},
   "outputs": [],
   "source": [
    "h1, w1 = emd.kmeans_to_hw(y_pred1)\n",
    "h2, w2 = emd.kmeans_to_hw(y_pred2)\n",
    "h3, w3 = emd.kmeans_to_hw(y_pred3)"
   ]
  },
  {
   "cell_type": "code",
   "execution_count": 27,
   "metadata": {},
   "outputs": [],
   "source": [
    "d1 = emd.kmeans_to_dist(y_pred1, y_cent1, y_pred3, y_cent3)\n",
    "d2 = emd.kmeans_to_dist(y_pred2, y_cent2, y_pred3, y_cent3)\n",
    "d3 = emd.kmeans_to_dist(y_pred1, y_cent1, y_pred2, y_cent2)\n",
    "\n",
    "LP = emd.build_LP(h1, h3, w1, w3)\n",
    "LP[\"c\"] = d1\n",
    "LP[\"A_eq\"] = np.array([])\n",
    "LP[\"b_eq\"] = np.array([])\n",
    "emd.LP_2_MPS(LP, \"k1_k3.mps\")\n",
    "LP = emd.build_LP(h2, h3, w2, w3)\n",
    "LP[\"c\"] = d2\n",
    "LP[\"A_eq\"] = np.array([])\n",
    "LP[\"b_eq\"] = np.array([])\n",
    "emd.LP_2_MPS(LP, \"k2_k3.mps\")\n",
    "LP = emd.build_LP(h1, h2, w1, w2)\n",
    "LP[\"c\"] = d3\n",
    "LP[\"A_eq\"] = np.array([])\n",
    "LP[\"b_eq\"] = np.array([])\n",
    "emd.LP_2_MPS(LP, \"k1_k2.mps\")"
   ]
  },
  {
   "cell_type": "code",
   "execution_count": 11,
   "metadata": {},
   "outputs": [
    {
     "data": {
      "text/plain": [
       "array([1260., 1000., 1000., 1240.])"
      ]
     },
     "execution_count": 11,
     "metadata": {},
     "output_type": "execute_result"
    }
   ],
   "source": [
    "d1"
   ]
  },
  {
   "cell_type": "code",
   "execution_count": 12,
   "metadata": {},
   "outputs": [
    {
     "data": {
      "text/plain": [
       "array([ 740., 1000.,    0.,  760.,  260., 1000., 1000.,  240.,  740.,\n",
       "          0., 1000.,  760.])"
      ]
     },
     "execution_count": 12,
     "metadata": {},
     "output_type": "execute_result"
    }
   ],
   "source": [
    "d2"
   ]
  },
  {
   "cell_type": "code",
   "execution_count": 13,
   "metadata": {},
   "outputs": [
    {
     "data": {
      "text/plain": [
       "array([[1., 1., 1., ..., 1., 1., 1.]])"
      ]
     },
     "execution_count": 13,
     "metadata": {},
     "output_type": "execute_result"
    }
   ],
   "source": [
    "h1"
   ]
  },
  {
   "cell_type": "code",
   "execution_count": 14,
   "metadata": {},
   "outputs": [
    {
     "data": {
      "text/plain": [
       "array([[0., 0., 0., ..., 1., 1., 1.],\n",
       "       [0., 0., 1., ..., 0., 0., 0.],\n",
       "       [1., 1., 0., ..., 0., 0., 0.]])"
      ]
     },
     "execution_count": 14,
     "metadata": {},
     "output_type": "execute_result"
    }
   ],
   "source": [
    "h2"
   ]
  },
  {
   "cell_type": "code",
   "execution_count": 28,
   "metadata": {},
   "outputs": [
    {
     "data": {
      "text/plain": [
       "{'c': array([1260., 1000., 1000., 1240.]), 'A_ub': array([[1., 1., 1., 1.],\n",
       "        [1., 0., 0., 0.],\n",
       "        [0., 1., 0., 0.],\n",
       "        [0., 0., 1., 0.],\n",
       "        [0., 0., 0., 1.]]), 'b_ub': array([1.        , 0.16      , 0.33333333, 0.33333333, 0.17333333]), 'A_eq': array([], dtype=float64), 'b_eq': array([], dtype=float64)}"
      ]
     },
     "execution_count": 28,
     "metadata": {},
     "output_type": "execute_result"
    }
   ],
   "source": [
    "LP = emd.build_LP(h1, h3, w1, w3)\n",
    "LP[\"c\"] = d1\n",
    "LP[\"A_eq\"] = np.array([])\n",
    "LP[\"b_eq\"] = np.array([])\n",
    "LP"
   ]
  },
  {
   "cell_type": "code",
   "execution_count": null,
   "metadata": {},
   "outputs": [],
   "source": []
  },
  {
   "cell_type": "code",
   "execution_count": null,
   "metadata": {},
   "outputs": [],
   "source": []
  }
 ],
 "metadata": {
  "kernelspec": {
   "display_name": "Python 3",
   "language": "python",
   "name": "python3"
  },
  "language_info": {
   "codemirror_mode": {
    "name": "ipython",
    "version": 3
   },
   "file_extension": ".py",
   "mimetype": "text/x-python",
   "name": "python",
   "nbconvert_exporter": "python",
   "pygments_lexer": "ipython3",
   "version": "3.6.1"
  }
 },
 "nbformat": 4,
 "nbformat_minor": 2
}
